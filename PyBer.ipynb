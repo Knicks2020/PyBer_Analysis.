{
 "cells": [
  {
   "cell_type": "code",
   "execution_count": null,
   "id": "6844ef46-dc99-42f4-83f3-a6b80287d32e",
   "metadata": {},
   "outputs": [],
   "source": [
    "# Add Matplotlib inline magic command\n",
    "%matplotlib inline\n",
    "# Dependencies and Setup\n",
    "import matplotlib.pyplot as plt\n",
    "import pandas as pd\n",
    "import os\n"
   ]
  },
  {
   "cell_type": "code",
   "execution_count": null,
   "id": "4b839d56-815f-4f2e-86a1-5df7a75c29b5",
   "metadata": {},
   "outputs": [],
   "source": [
    "# Files to load\n",
    "city_data_to_load = \"Resources/city_data.csv\"\n",
    "ride_data_to_load = \"Resources/ride_data.csv\""
   ]
  },
  {
   "cell_type": "code",
   "execution_count": null,
   "id": "552a20a6-43c9-45a1-93bd-e84421e6d5be",
   "metadata": {},
   "outputs": [],
   "source": [
    "# Read the city data file and store it in a pandas DataFrame.\n",
    "city_data_df = pd.read_csv(city_data_to_load)\n",
    "city_data_df.head(10)"
   ]
  },
  {
   "cell_type": "code",
   "execution_count": null,
   "id": "854e43bc-a6e9-4863-9fce-e8447983d367",
   "metadata": {},
   "outputs": [],
   "source": [
    "# Read the ride data file and store it in a pandas DataFrame.\n",
    "ride_data_df = pd.read_csv(ride_data_to_load)\n",
    "ride_data_df.head(10)"
   ]
  },
  {
   "cell_type": "code",
   "execution_count": null,
   "id": "92836edf-21fd-4b35-a7ca-25c151381837",
   "metadata": {},
   "outputs": [],
   "source": [
    "city_data_df.count()"
   ]
  },
  {
   "cell_type": "code",
   "execution_count": null,
   "id": "fe8908c0-9878-4ef0-97b1-db7a167e5663",
   "metadata": {},
   "outputs": [],
   "source": [
    "# #Calculate the NULL Values\n",
    "# city_data_df.isnull().sum()"
   ]
  },
  {
   "cell_type": "code",
   "execution_count": null,
   "id": "509265b4-a43a-4105-8afc-540e86c61bfc",
   "metadata": {},
   "outputs": [],
   "source": [
    "#TO Get Data Types on the Data Frame\n",
    "city_data_df.dtypes"
   ]
  },
  {
   "cell_type": "code",
   "execution_count": null,
   "id": "2edb8048-7fc6-42f7-ba53-f3dfac042296",
   "metadata": {},
   "outputs": [],
   "source": [
    "#In order to get the unique value in the column we have to be sure to give the \n",
    "#column name as well\n",
    "city_data_df[\"type\"].unique()"
   ]
  },
  {
   "cell_type": "code",
   "execution_count": null,
   "id": "9548e094-4456-470c-91a4-b18524217c2d",
   "metadata": {},
   "outputs": [],
   "source": [
    "# Get the number of data points from the Urban cities.\n",
    "sum(city_data_df[\"type\"]==\"Urban\")\n",
    "# Get the number of data points from the Urban cities.\n",
    "sum(city_data_df[\"type\"]==\"Rural\")\n",
    "sum(city_data_df[\"type\"]==\"Suburban\")"
   ]
  },
  {
   "cell_type": "code",
   "execution_count": null,
   "id": "131e977d-ffe5-4401-adf3-f7d960f2e0e4",
   "metadata": {},
   "outputs": [],
   "source": [
    "#GEt all rows that contain null values\n",
    "ride_data_df.isnull().sum()"
   ]
  },
  {
   "cell_type": "code",
   "execution_count": null,
   "id": "95410b1b-67e2-4ffe-97b5-fbb7c8fb17e3",
   "metadata": {},
   "outputs": [],
   "source": [
    "ride_data_df.count()"
   ]
  },
  {
   "cell_type": "code",
   "execution_count": null,
   "id": "63932e1d-a4b1-4f6d-930e-e5f704c2e139",
   "metadata": {},
   "outputs": [],
   "source": [
    "#GEt ride data frame types\n",
    "ride_data_df.dtypes"
   ]
  },
  {
   "cell_type": "code",
   "execution_count": null,
   "id": "698ba7dd-6a65-4dea-b2b8-496d86a2ee73",
   "metadata": {},
   "outputs": [],
   "source": [
    "#SYNTAX TO MERGE 2 DATAFRAMES\n",
    "#new_df = pd.merge(leftdf, rightdf, how=\"left\",\"right\"inner\"or\"outer\", on=[\"column_leftdf\", \"column_rightdf\"])"
   ]
  },
  {
   "cell_type": "code",
   "execution_count": null,
   "id": "b508918d-bc54-496b-b9d8-0671cf0344f0",
   "metadata": {},
   "outputs": [],
   "source": [
    "pyber_data_df = pd.merge(ride_data_df,city_data_df, how=\"left\", on=[\"city\",\"city\"])\n",
    "pyber_data_df"
   ]
  },
  {
   "cell_type": "code",
   "execution_count": null,
   "id": "957ef2f3-89fb-44fd-a8fa-5ce996ed66a7",
   "metadata": {},
   "outputs": [],
   "source": [
    "# Create the Urban city DataFrame.\n",
    "urban_cities_df = pyber_data_df[pyber_data_df[\"type\"] == \"Urban\"]\n",
    "urban_cities_df.head()"
   ]
  },
  {
   "cell_type": "code",
   "execution_count": null,
   "id": "14c04e57-931c-4740-986f-fc990925917b",
   "metadata": {},
   "outputs": [],
   "source": [
    "#Create Rural City Data Frames\n",
    "rural_cities_df = pyber_data_df[pyber_data_df[\"type\"] == \"Rural\"]\n",
    "rural_cities_df"
   ]
  },
  {
   "cell_type": "code",
   "execution_count": null,
   "id": "95c4d07b-ab58-4ada-9ee6-8a776c9d7386",
   "metadata": {},
   "outputs": [],
   "source": [
    "suburban_cities_df = pyber_data_df[pyber_data_df[\"type\"] == \"Suburban\"]\n",
    "suburban_cities_df"
   ]
  },
  {
   "cell_type": "code",
   "execution_count": null,
   "id": "3a6a41ea-17e5-4bfc-bf96-a51161ef9140",
   "metadata": {},
   "outputs": [],
   "source": [
    "sub_ride_count = suburban_cities_df.groupby([\"city\"]).count()[\"ride_id\"]\n",
    "sub_ride_count.head()"
   ]
  },
  {
   "cell_type": "code",
   "execution_count": null,
   "id": "b498f4eb-b99b-4e4c-8e2c-b82e09bc218c",
   "metadata": {},
   "outputs": [],
   "source": [
    "# Get the number of rides for urban cities.\n",
    "urban_ride_count = urban_cities_df.groupby([\"city\"]).count()[\"ride_id\"]\n",
    "urban_ride_count.head()"
   ]
  },
  {
   "cell_type": "code",
   "execution_count": null,
   "id": "ca4b2c2c-0744-48d3-a207-f373223029c2",
   "metadata": {},
   "outputs": [],
   "source": [
    "rural_ride_count = rural_cities_df.groupby([\"city\"]).count()[\"ride_id\"]\n",
    "rural_ride_count.head()"
   ]
  },
  {
   "cell_type": "code",
   "execution_count": null,
   "id": "3b4282d8-fb1e-4ce9-8b75-f9914160cc79",
   "metadata": {},
   "outputs": [],
   "source": [
    "# Get average fare for each city in the urban cities.\n",
    "urban_avg_fare = urban_cities_df.groupby([\"city\"]).mean()[\"fare\"]\n",
    "urban_avg_fare.head()"
   ]
  },
  {
   "cell_type": "code",
   "execution_count": null,
   "id": "54d780d5-c6ee-445e-9834-d704d36eed37",
   "metadata": {},
   "outputs": [],
   "source": [
    "rural_avg_fare = rural_cities_df.groupby([\"city\"]).mean()[\"fare\"]\n",
    "rural_avg_fare.head()"
   ]
  },
  {
   "cell_type": "code",
   "execution_count": null,
   "id": "1d95dc60-2274-4346-aa52-622bd407fd24",
   "metadata": {},
   "outputs": [],
   "source": [
    "sub_avg_fare = suburban_cities_df.groupby([\"city\"]).mean()[\"fare\"]\n",
    "sub_avg_fare.head()"
   ]
  },
  {
   "cell_type": "code",
   "execution_count": null,
   "id": "9318ea12-6edb-4368-914c-7b0f03ec9f09",
   "metadata": {},
   "outputs": [],
   "source": [
    "sub_driver_count=suburban_cities_df.groupby([\"city\"]).mean()[\"driver_count\"]\n",
    "sub_driver_count.head()"
   ]
  },
  {
   "cell_type": "code",
   "execution_count": null,
   "id": "1aff91cb-39ac-4bb2-9149-83626362fd75",
   "metadata": {},
   "outputs": [],
   "source": [
    "rural_driver_count=rural_cities_df.groupby([\"city\"]).mean()[\"driver_count\"]\n",
    "rural_driver_count.head()"
   ]
  },
  {
   "cell_type": "code",
   "execution_count": null,
   "id": "a970f320-b765-4228-90f0-20c8f95aa484",
   "metadata": {},
   "outputs": [],
   "source": [
    "#GEt Avg # of drivers per Rural City\n",
    "urban_driver_count=urban_cities_df.groupby([\"city\"]).mean()[\"driver_count\"]\n",
    "urban_driver_count.head()"
   ]
  },
  {
   "cell_type": "code",
   "execution_count": null,
   "id": "afb0712a-65cb-45f9-9677-b0c2dc2b3e1a",
   "metadata": {},
   "outputs": [],
   "source": [
    "# Build the scatter plots for urban cities.\n",
    "plt.xlabel(\"Ride Count\")\n",
    "plt.ylabel(\"Avg Fare ($)\")\n",
    "plt.title(\"Average Fare per Ride\")\n",
    "plt.legend(\"Bus Rider\")\n",
    "plt.legend()\n",
    "plt.scatter(urban_ride_count, urban_avg_fare,marker=\"o\",color=\"black\",s = urban_driver_count)\n",
    "plt.show()"
   ]
  },
  {
   "cell_type": "code",
   "execution_count": null,
   "id": "94abe7df-d902-4bbd-a11e-124fc5f7a0f3",
   "metadata": {},
   "outputs": [],
   "source": [
    "# Build the scatter plots for urban cities.\n",
    "plt.scatter(urban_ride_count,urban_avg_fare,s=10*urban_driver_count, c=\"coral\",edgecolor=\"black\", \n",
    "            linewidths=1,alpha=0.8, label=\"Urban\")\n",
    "\n",
    "#label provides the info for the Legend\n",
    "#Linewidths effects the thickness of the line around the plots\n",
    "#Alpha effects the transparency of the plots\n",
    "\n",
    "plt.title(\"PyBer Ride-Sharing Data (2019)\")\n",
    "plt.ylabel(\"Average Fare ($)\")\n",
    "plt.xlabel(\"Total Number of Rides (Per City)\")\n",
    "plt.grid(True)\n",
    "\n",
    "# Add the legend.\n",
    "plt.legend()\n",
    "plt.show()"
   ]
  },
  {
   "cell_type": "code",
   "execution_count": null,
   "id": "08a90bfc-7649-4328-ace1-25ee1a5bbe4e",
   "metadata": {},
   "outputs": [],
   "source": [
    "plt.scatter(sub_ride_count,sub_avg_fare ,color=\"blue\",marker='o',label=\"Test\",\n",
    "           s=sub_driver_count*10,alpha=.5,edgecolor=\"black\")\n",
    "\n",
    "plt.ylabel(\"Average Fare ($)\")\n",
    "plt.xlabel(\"Total Rides per City\")\n",
    "\n",
    "plt.grid(True)\n",
    "plt.legend()\n",
    "plt.show()"
   ]
  },
  {
   "cell_type": "code",
   "execution_count": null,
   "id": "08890aab-0fc0-4ad4-91a3-8e2026666595",
   "metadata": {},
   "outputs": [],
   "source": [
    "# Build the scatter plots for rural cities.\n",
    "plt.scatter(rural_ride_count,\n",
    "      rural_avg_fare,\n",
    "      s=10*rural_driver_count, c=\"gold\",\n",
    "      edgecolor=\"black\", linewidths=1,\n",
    "      alpha=0.8, label=\"Rural\")\n",
    "plt.title(\"PyBer Ride-Sharing Data (2019)\")\n",
    "plt.ylabel(\"Average Fare ($)\")\n",
    "plt.xlabel(\"Total Number of Rides (Per City)\")\n",
    "plt.grid(True)\n",
    "# Add the legend.\n",
    "plt.legend()"
   ]
  },
  {
   "cell_type": "code",
   "execution_count": null,
   "id": "5d6ed4f6-44b7-4d90-be90-8725bcaea603",
   "metadata": {},
   "outputs": [],
   "source": [
    "plt.subplots(figsize=(8,6))\n",
    "\n",
    "plt.scatter(rural_ride_count, rural_avg_fare,alpha=0.8,color=\"gold\",s=rural_avg_fare*3,\n",
    "           linewidths=1,edgecolor=\"black\",label=\"Rural\")\n",
    "\n",
    "plt.scatter(urban_ride_count,urban_avg_fare,alpha=.7,color=\"coral\",s=urban_driver_count*3,\n",
    "           linewidths=1,edgecolor=\"black\",label=\"Urban\")\n",
    "\n",
    "plt.scatter(sub_ride_count,sub_avg_fare,alpha=.8,color=\"skyblue\",s=sub_driver_count*4,\n",
    "           linewidths=1,edgecolor=\"black\",label=\"Suburban\")\n",
    "\n",
    "plt.ylabel=(\"Avg Fare per Ride ($)\")\n",
    "plt.xlabel=(\"Number of Rides per Day\")\n",
    "\n",
    "# Incorporate the other graph properties\n",
    "plt.title(\"PyBer Ride-Sharing Data (2019)\", fontsize=20)\n",
    "#plt.ylabel(\"Average Fare ($)\", fontsize=12)\n",
    "#plt.xlabel(\"Total Number of Rides (Per City)\", fontsize=12)\n",
    "\n",
    "# Create a legend\n",
    "lgnd = plt.legend(fontsize=\"12\", mode=\"Expanded\",\n",
    "         scatterpoints=1, loc=\"best\", title=\"City Types\")\n",
    "lgnd.legendHandles[0]._sizes = [75]\n",
    "lgnd.legendHandles[1]._sizes = [75]\n",
    "lgnd.legendHandles[2]._sizes = [75]\n",
    "lgnd.get_title().set_fontsize(12)\n",
    "\n",
    "\n",
    "# Incorporate a text label about circle size.\n",
    "plt.text(42, 35, \"Note: Circle size correlates with driver count per city.\", fontsize=\"12\")\n",
    "\n",
    "plt.grid(True)\n",
    "plt.legend()\n",
    "plt.savefig(\"analysis/Fig1.png\")\n",
    "plt.show()"
   ]
  },
  {
   "cell_type": "code",
   "execution_count": null,
   "id": "88c9f411-1abe-4b3b-952a-7706b527bffa",
   "metadata": {},
   "outputs": [],
   "source": []
  },
  {
   "cell_type": "code",
   "execution_count": null,
   "id": "a9c50167-b207-493b-8b75-68c3916552de",
   "metadata": {},
   "outputs": [],
   "source": []
  },
  {
   "cell_type": "code",
   "execution_count": null,
   "id": "044ce84d-df2c-414b-b9cd-1d7a311fd8a6",
   "metadata": {},
   "outputs": [],
   "source": []
  },
  {
   "cell_type": "code",
   "execution_count": null,
   "id": "2cb50de9-3cdd-47f5-8967-b1461ce09d4f",
   "metadata": {},
   "outputs": [],
   "source": []
  },
  {
   "cell_type": "code",
   "execution_count": null,
   "id": "82531a65-269c-4169-b5e4-8ed2bd11ace0",
   "metadata": {},
   "outputs": [],
   "source": []
  },
  {
   "cell_type": "code",
   "execution_count": null,
   "id": "961de37a-e32b-41b8-bdbd-c2c4aeb6a91c",
   "metadata": {},
   "outputs": [],
   "source": []
  },
  {
   "cell_type": "code",
   "execution_count": null,
   "id": "39852096-01f4-4172-863e-cef196a14416",
   "metadata": {},
   "outputs": [],
   "source": []
  },
  {
   "cell_type": "code",
   "execution_count": null,
   "id": "6eb33182-36ab-4165-8160-3e3011092345",
   "metadata": {},
   "outputs": [],
   "source": []
  },
  {
   "cell_type": "code",
   "execution_count": null,
   "id": "9e38ac30-95a1-4279-beb1-536b0420fb6f",
   "metadata": {},
   "outputs": [],
   "source": []
  },
  {
   "cell_type": "code",
   "execution_count": null,
   "id": "081762cf-50a0-4609-b2d5-789f8d3d5869",
   "metadata": {},
   "outputs": [],
   "source": []
  },
  {
   "cell_type": "code",
   "execution_count": null,
   "id": "57ff0585-8d3f-4778-b8ca-67b5f2878772",
   "metadata": {},
   "outputs": [],
   "source": []
  },
  {
   "cell_type": "code",
   "execution_count": null,
   "id": "8664f78a-b19d-4690-a899-88d0cfd2f566",
   "metadata": {},
   "outputs": [],
   "source": []
  }
 ],
 "metadata": {
  "kernelspec": {
   "display_name": "PythonData",
   "language": "python",
   "name": "pythondata"
  },
  "language_info": {
   "codemirror_mode": {
    "name": "ipython",
    "version": 3
   },
   "file_extension": ".py",
   "mimetype": "text/x-python",
   "name": "python",
   "nbconvert_exporter": "python",
   "pygments_lexer": "ipython3",
   "version": "3.7.13"
  }
 },
 "nbformat": 4,
 "nbformat_minor": 5
}
